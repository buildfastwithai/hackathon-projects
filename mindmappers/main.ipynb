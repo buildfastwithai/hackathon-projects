{
 "cells": [
  {
   "cell_type": "code",
   "execution_count": 10,
   "id": "d0f53209",
   "metadata": {},
   "outputs": [
    {
     "ename": "NameError",
     "evalue": "name 'Element' is not defined",
     "output_type": "error",
     "traceback": [
      "\u001b[0;31m---------------------------------------------------------------------------\u001b[0m",
      "\u001b[0;31mNameError\u001b[0m                                 Traceback (most recent call last)",
      "\u001b[0;32m/var/folders/2b/3kvqg_dn3z3047tkz_6844wh0000gn/T/ipykernel_81607/1758090754.py\u001b[0m in \u001b[0;36m<module>\u001b[0;34m\u001b[0m\n\u001b[0;32m----> 1\u001b[0;31m \u001b[0;32mclass\u001b[0m \u001b[0mElement\u001b[0m\u001b[0;34m:\u001b[0m\u001b[0;34m\u001b[0m\u001b[0;34m\u001b[0m\u001b[0m\n\u001b[0m\u001b[1;32m      2\u001b[0m     \u001b[0;32mdef\u001b[0m \u001b[0m__init__\u001b[0m\u001b[0;34m(\u001b[0m\u001b[0mself\u001b[0m\u001b[0;34m,\u001b[0m \u001b[0mname\u001b[0m\u001b[0;34m,\u001b[0m \u001b[0mprompt_template\u001b[0m\u001b[0;34m)\u001b[0m\u001b[0;34m:\u001b[0m\u001b[0;34m\u001b[0m\u001b[0;34m\u001b[0m\u001b[0m\n\u001b[1;32m      3\u001b[0m         \u001b[0mself\u001b[0m\u001b[0;34m.\u001b[0m\u001b[0mname\u001b[0m \u001b[0;34m=\u001b[0m \u001b[0mname\u001b[0m\u001b[0;34m\u001b[0m\u001b[0;34m\u001b[0m\u001b[0m\n\u001b[1;32m      4\u001b[0m         \u001b[0mself\u001b[0m\u001b[0;34m.\u001b[0m\u001b[0mprompt_template\u001b[0m \u001b[0;34m=\u001b[0m \u001b[0mprompt_template\u001b[0m\u001b[0;34m\u001b[0m\u001b[0;34m\u001b[0m\u001b[0m\n\u001b[1;32m      5\u001b[0m \u001b[0;34m\u001b[0m\u001b[0m\n",
      "\u001b[0;32m/var/folders/2b/3kvqg_dn3z3047tkz_6844wh0000gn/T/ipykernel_81607/1758090754.py\u001b[0m in \u001b[0;36mElement\u001b[0;34m()\u001b[0m\n\u001b[1;32m      7\u001b[0m         \u001b[0mself\u001b[0m\u001b[0;34m.\u001b[0m\u001b[0mprompt_template\u001b[0m \u001b[0;34m=\u001b[0m \u001b[0mprompt_template\u001b[0m\u001b[0;34m\u001b[0m\u001b[0;34m\u001b[0m\u001b[0m\n\u001b[1;32m      8\u001b[0m \u001b[0;34m\u001b[0m\u001b[0m\n\u001b[0;32m----> 9\u001b[0;31m     \u001b[0mintro\u001b[0m \u001b[0;34m=\u001b[0m \u001b[0mElement\u001b[0m\u001b[0;34m(\u001b[0m\u001b[0;34m\"intro\"\u001b[0m\u001b[0;34m,\u001b[0m \u001b[0;34m\"\"\"Give me 2 questions which will make me curious about {topic_name}\"\"\"\u001b[0m \u001b[0;34m)\u001b[0m\u001b[0;34m\u001b[0m\u001b[0;34m\u001b[0m\u001b[0m\n\u001b[0m\u001b[1;32m     10\u001b[0m     \u001b[0mdefinition\u001b[0m \u001b[0;34m=\u001b[0m \u001b[0mElement\u001b[0m\u001b[0;34m(\u001b[0m\u001b[0;34m'definition'\u001b[0m\u001b[0;34m,\u001b[0m \u001b[0;34m\"\"\"Give me a definition of {topic_name}\"\"\"\u001b[0m\u001b[0;34m)\u001b[0m\u001b[0;34m\u001b[0m\u001b[0;34m\u001b[0m\u001b[0m\n\u001b[1;32m     11\u001b[0m     \u001b[0mreal_life_eg\u001b[0m \u001b[0;34m=\u001b[0m \u001b[0mElement\u001b[0m\u001b[0;34m(\u001b[0m\u001b[0;34m'real_life_eg'\u001b[0m\u001b[0;34m,\u001b[0m \u001b[0;34m\"\"\"Give me 2 real examples/applications of {topic_name} \"\"\"\u001b[0m\u001b[0;34m)\u001b[0m\u001b[0;34m\u001b[0m\u001b[0;34m\u001b[0m\u001b[0m\n",
      "\u001b[0;31mNameError\u001b[0m: name 'Element' is not defined"
     ]
    }
   ],
   "source": [
    "class Element:\n",
    "    def __init__(self, name, prompt_template):\n",
    "        self.name = name\n",
    "        self.prompt_template = prompt_template\n",
    "\n",
    "    def modify_prompt(self, prompt_template):\n",
    "        self.prompt_template = prompt_template\n",
    "\n",
    "    intro = Element(\"intro\", \"\"\"Give me 2 questions which will make me curious about {topic_name}\"\"\" )\n",
    "    definition = Element('definition', \"\"\"Give me a definition of {topic_name}\"\"\")\n",
    "    real_life_eg = Element('real_life_eg', \"\"\"Give me 2 real examples/applications of {topic_name} \"\"\")\n",
    "    hots = Element('hots',\"\"\"Give me 3 questions which will help me critically think about {topic_name}\"\"\")\n",
    "    numerical_eg = Element('numerical_eg', \"\"\"Give me 3 numerical question on the topic of {topic_name}\"\"\")"
   ]
  },
  {
   "cell_type": "code",
   "execution_count": 3,
   "id": "06e80d1d",
   "metadata": {},
   "outputs": [],
   "source": [
    "definition = Element(\"definition\", \"\"\"Give me the definition of {topic_name}\"\"\")"
   ]
  },
  {
   "cell_type": "code",
   "execution_count": 4,
   "id": "5f0bf969",
   "metadata": {},
   "outputs": [
    {
     "data": {
      "text/plain": [
       "'Give me the definition of {topic_name}'"
      ]
     },
     "execution_count": 4,
     "metadata": {},
     "output_type": "execute_result"
    }
   ],
   "source": [
    "definition.prompt_template"
   ]
  },
  {
   "cell_type": "code",
   "execution_count": null,
   "id": "0d0516b9",
   "metadata": {},
   "outputs": [],
   "source": [
    "elements = {\n",
    "    'intro' : \"\"\"Give me 2 questions which will make me curious about {topic_name}\"\"\",\n",
    "    'definition' : \"\"\"Give me a definition of {topic_name}\"\"\",\n",
    "    'real_life_eg' : \"\"\"Give me 2 real examples/applications of {topic_name} \"\"\",\n",
    "    'hots' : \"\"\"Give me 3 questions which will help me critically think about {topic_name}\"\"\",\n",
    "    'numerical_eg' : \"\"\"Give me 3 numerical question on the topic of {topic_name}\"\"\"\n",
    "}"
   ]
  },
  {
   "cell_type": "code",
   "execution_count": 7,
   "id": "fa9b2e0d",
   "metadata": {},
   "outputs": [
    {
     "data": {
      "text/plain": [
       "'Give me 2 questions which will make me curious about gravitation'"
      ]
     },
     "execution_count": 7,
     "metadata": {},
     "output_type": "execute_result"
    }
   ],
   "source": [
    "Element.intro.prompt_template.format(topic_name = 'gravitation')"
   ]
  },
  {
   "cell_type": "code",
   "execution_count": 9,
   "id": "713cc00c",
   "metadata": {},
   "outputs": [],
   "source": [
    "del Element"
   ]
  },
  {
   "cell_type": "code",
   "execution_count": 15,
   "id": "74399dfb",
   "metadata": {},
   "outputs": [],
   "source": [
    "class Textbook:\n",
    "    def __init__(self, title, subject, grade, chapters):\n",
    "        self.title = title\n",
    "        self.subject = subject\n",
    "        self.grade = grade\n",
    "        self.chapters = chapters\n",
    "\n",
    "    def add_chapter(self, chapter):\n",
    "        self.chapters.append(chapter)\n",
    "\n",
    "class Chapter:\n",
    "    def __init__(self, name, topics):\n",
    "        self.name = name\n",
    "        self.topics = topics\n",
    "\n",
    "    def add_topic(self, topic):\n",
    "        self.topics.append(topic)\n",
    "\n",
    "class Topic:\n",
    "    def __init__(self, name):\n",
    "        self.name = name\n",
    "        self.elements = []\n",
    "        # self.subtopics = []\n",
    "\n",
    "    # def add_subtopic(self, subtopic):\n",
    "    #     self.subtopics.append(subtopic)\n",
    "\n",
    "    def add_element(self, element):\n",
    "        self.elements.append(element)\n",
    "\n",
    "    def generate_prompts(self):\n",
    "        prompts = []\n",
    "        for element in self.elements:\n",
    "            prompts.append(element.prompt_template.format(topic_name = self.name))\n",
    "        return prompts\n",
    "    \n",
    "class Subtopic:\n",
    "    def __init__(self, name):\n",
    "        self.name = name\n",
    "        self.elements = []\n",
    "\n",
    "    def add_element(self, element):\n",
    "        self.elements.append(element)\n",
    "\n",
    "    def generate_prompts(self):\n",
    "        prompts = []\n",
    "        for element in self.elements:\n",
    "            prompts.append(element.prompt_template.format(topic_name = self.name))\n",
    "        return prompts\n",
    "\n",
    "class Element:\n",
    "    def __init__(self, name, prompt_template):\n",
    "        self.name = name\n",
    "        self.prompt_template = prompt_template\n",
    "\n",
    "    def modify_prompt(self, prompt_template):\n",
    "        self.prompt_template = prompt_template\n"
   ]
  },
  {
   "cell_type": "code",
   "execution_count": 16,
   "id": "eb84734b",
   "metadata": {},
   "outputs": [],
   "source": [
    "\n",
    "# Create Elements\n",
    "question = Element(\"question\", \"\"\"Give me 2 questions which will make me curious about {topic_name}\"\"\")\n",
    "definition = Element('definition', \"\"\"Give me a definition of {topic_name}\"\"\")\n",
    "real_life_eg = Element('real_life_eg', \"\"\"Give me 2 real examples/applications of {topic_name} \"\"\")\n",
    "critical_thinking = Element('critical_thinking', \"\"\"Give me 3 questions which will help me critically think about {topic_name}\"\"\")\n",
    "numerical_question = Element('numerical_question', \"\"\"Give me 3 numerical question on the topic of {topic_name}\"\"\")\n",
    "\n",
    "# Create Topics\n",
    "forces = Topic(\"Forces\")\n",
    "forces.add_element(question)\n",
    "forces.add_element(definition)\n",
    "\n",
    "gravity = Topic(\"Gravity\")\n",
    "gravity.add_element(real_life_eg)\n",
    "gravity.add_element(critical_thinking)\n",
    "\n",
    "friction = Topic(\"Friction\")\n",
    "friction.add_element(numerical_question)\n",
    "friction.add_element(question)\n",
    "\n",
    "energy = Topic(\"Energy\")\n",
    "energy.add_element(definition)\n",
    "energy.add_element(real_life_eg)\n",
    "\n",
    "work = Topic(\"Work\")\n",
    "work.add_element(critical_thinking)\n",
    "work.add_element(numerical_question)\n",
    "\n",
    "power = Topic(\"Power\")\n",
    "power.add_element(question)\n",
    "power.add_element(definition)\n",
    "\n",
    "electricity = Topic(\"Electricity\")\n",
    "electricity.add_element(real_life_eg)\n",
    "electricity.add_element(critical_thinking)\n",
    "\n",
    "magnetism = Topic(\"Magnetism\")\n",
    "magnetism.add_element(numerical_question)\n",
    "magnetism.add_element(question)\n",
    "\n",
    "electromagnetism = Topic(\"Electromagnetism\")\n",
    "electromagnetism.add_element(definition)\n",
    "electromagnetism.add_element(real_life_eg)\n",
    "\n",
    "# Create Chapters\n",
    "Mechanics = Chapter(\"Mechanics\", [forces, gravity, friction])\n",
    "Energy_Work = Chapter(\"Energy and Work\", [energy, work, power])\n",
    "Elec_Mag = Chapter(\"Electricity and Magnetism\", [electricity, magnetism, electromagnetism])\n",
    "\n",
    "# Create Textbook\n",
    "textbook = Textbook(\"Physics for Class 9\", \"Science\", 9, [Mechanics, Energy_Work, Elec_Mag])\n"
   ]
  },
  {
   "cell_type": "code",
   "execution_count": 14,
   "id": "f85d5522",
   "metadata": {},
   "outputs": [
    {
     "data": {
      "text/plain": [
       "__main__.Textbook"
      ]
     },
     "execution_count": 14,
     "metadata": {},
     "output_type": "execute_result"
    }
   ],
   "source": [
    "type(textbook)"
   ]
  },
  {
   "cell_type": "code",
   "execution_count": 17,
   "id": "1b6bceff",
   "metadata": {},
   "outputs": [
    {
     "data": {
      "text/plain": [
       "['Give me 3 numerical question on the topic of Friction',\n",
       " 'Give me 2 questions which will make me curious about Friction']"
      ]
     },
     "execution_count": 17,
     "metadata": {},
     "output_type": "execute_result"
    }
   ],
   "source": [
    "friction.generate_prompts()"
   ]
  },
  {
   "cell_type": "code",
   "execution_count": null,
   "id": "746f4ffe",
   "metadata": {},
   "outputs": [],
   "source": []
  }
 ],
 "metadata": {
  "kernelspec": {
   "display_name": "Python 3 (ipykernel)",
   "language": "python",
   "name": "python3"
  },
  "language_info": {
   "codemirror_mode": {
    "name": "ipython",
    "version": 3
   },
   "file_extension": ".py",
   "mimetype": "text/x-python",
   "name": "python",
   "nbconvert_exporter": "python",
   "pygments_lexer": "ipython3",
   "version": "3.9.13"
  }
 },
 "nbformat": 4,
 "nbformat_minor": 5
}
